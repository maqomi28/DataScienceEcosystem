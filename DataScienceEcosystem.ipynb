{
 "cells": [
  {
   "cell_type": "markdown",
   "id": "6e6b560c-3c3a-4a97-8356-fa91c19583ca",
   "metadata": {},
   "source": [
    "# Data Science Tools and Ecosystem"
   ]
  },
  {
   "attachments": {},
   "cell_type": "markdown",
   "id": "89b4d185-077a-4b35-a103-e990a5654e51",
   "metadata": {},
   "source": [
    "In this notebook, Data Science Tools and Ecosystem are summarized."
   ]
  },
  {
   "cell_type": "markdown",
   "id": "5498a640-3f0e-4006-9d1a-badc652b8b3e",
   "metadata": {},
   "source": [
    "### Some of the popular languages that Data Scientists use are:\n",
    "\n",
    "1. **Python**\n",
    "2. **R**\n",
    "3. **SQL**\n",
    "4. **Julia**\n",
    "5. **SAS**\n",
    "6. **Java**\n",
    "7. **MATLAB**"
   ]
  },
  {
   "cell_type": "markdown",
   "id": "60c270be-18fa-47c8-a148-c3305cb8cd8b",
   "metadata": {},
   "source": [
    "### Some of the commonly used libraries used by Data Scientists include:\n",
    "\n",
    "1. **NumPy**\n",
    "2. **Pandas**\n",
    "3. **Matplotlib**\n",
    "4. **Scikit-learn**\n",
    "5. **TensorFlow**\n",
    "6. **Keras**\n",
    "7. **SciPy**\n",
    "8. **Seaborn**"
   ]
  },
  {
   "cell_type": "markdown",
   "id": "d357a67c-3658-4ad0-82f0-59aee016061d",
   "metadata": {},
   "source": [
    "### Data Science Tools\n",
    "\n",
    "| Data Science Tools        |\n",
    "|---------------------------|\n",
    "| Jupyter Notebook          |\n",
    "| RStudio                   |\n",
    "| Apache Zeppelin           |"
   ]
  },
  {
   "cell_type": "markdown",
   "id": "cde57f22-414c-4a2d-8008-0d353d486087",
   "metadata": {},
   "source": [
    "### Below are a few examples of evaluating arithmetic expressions in Python."
   ]
  },
  {
   "cell_type": "markdown",
   "id": "b2da1f74-1739-486a-bcf1-ec1d92ef22b0",
   "metadata": {},
   "source": [
    "This is a simple arithmetic expression to multiply then add integers\n",
    "\n",
    "(3 * 4) + 5"
   ]
  },
  {
   "cell_type": "markdown",
   "id": "5b665708-d3a2-4c8c-bb8d-f3cb425a8f1c",
   "metadata": {},
   "source": [
    "This will convert 200 minutes to hours by dividing by 60\n",
    "\n",
    "200 / 60"
   ]
  },
  {
   "cell_type": "markdown",
   "id": "c6091c23-a898-45e6-ba3c-15f3d0376f26",
   "metadata": {},
   "source": [
    "**Objectives:**\n",
    "\n",
    "- List popular languages for Data Science\n",
    "- List commonly used libraries in Data Science\n",
    "- Create a table of Data Science Tools\n",
    "- Provide examples of evaluating arithmetic expressions in Python\n",
    "- Convert minutes to hours using Python"
   ]
  },
  {
   "cell_type": "markdown",
   "id": "c73043aa-a954-46d7-8bcf-93444751bd8b",
   "metadata": {},
   "source": [
    "## Author\n",
    "\n",
    "Muhamad Fildzah Rake Maqomi"
   ]
  },
  {
   "cell_type": "code",
   "execution_count": null,
   "id": "a81caeb6-0f8c-4591-80f6-618742b24ac3",
   "metadata": {},
   "outputs": [],
   "source": []
  }
 ],
 "metadata": {
  "kernelspec": {
   "display_name": "Python 3 (ipykernel)",
   "language": "python",
   "name": "python3"
  },
  "language_info": {
   "codemirror_mode": {
    "name": "ipython",
    "version": 3
   },
   "file_extension": ".py",
   "mimetype": "text/x-python",
   "name": "python",
   "nbconvert_exporter": "python",
   "pygments_lexer": "ipython3",
   "version": "3.11.7"
  }
 },
 "nbformat": 4,
 "nbformat_minor": 5
}
